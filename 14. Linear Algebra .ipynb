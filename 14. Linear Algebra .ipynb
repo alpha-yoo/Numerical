{
 "cells": [
  {
   "cell_type": "code",
   "execution_count": 4,
   "id": "5c22ad66",
   "metadata": {},
   "outputs": [
    {
     "name": "stdout",
     "output_type": "stream",
     "text": [
      "(1, 5)\n",
      "(4, 1)\n"
     ]
    }
   ],
   "source": [
    "import numpy as np\n",
    "vector_row = np.array([[1, -5, 3, 2, 4]])\n",
    "vector_col = np.array([[1],[2],[3],[4]])\n",
    "print(vector_row.shape)\n",
    "print(vector_col.shape)"
   ]
  },
  {
   "cell_type": "code",
   "execution_count": 15,
   "id": "45c8c3fd",
   "metadata": {},
   "outputs": [
    {
     "name": "stdout",
     "output_type": "stream",
     "text": [
      "L_1 is 5.00\n",
      "L_2 is 7.42\n",
      "L_inf is 15.00\n"
     ]
    }
   ],
   "source": [
    "from numpy.linalg import norm\n",
    "new_vector = vector_row\n",
    "# print(new_vector)\n",
    "\n",
    "norm_1 = norm(new_vector, 1)\n",
    "norm_2 = norm(new_vector, 2)\n",
    "norm_inf = norm(new_vector, np.inf)\n",
    "\n",
    "print(\"L_1 is %.2f\"%norm_1)\n",
    "print(\"L_2 is %.2f\"%norm_2)\n",
    "print(\"L_inf is %.2f\"%norm_inf)"
   ]
  },
  {
   "cell_type": "code",
   "execution_count": 24,
   "id": "95d7c22b",
   "metadata": {},
   "outputs": [
    {
     "name": "stdout",
     "output_type": "stream",
     "text": [
      "[[0.97992471]]\n",
      "[[ 20  18   6]\n",
      " [ 50  45  15]\n",
      " [120 108  36]]\n"
     ]
    }
   ],
   "source": [
    "from numpy import arccos, dot\n",
    "\n",
    "v = np.array([[10,9,3]])\n",
    "w = np.array([[2,5,12]])\n",
    "theta = arccos(dot(v, w.T)/(norm(v)*norm(w)))\n",
    "print(theta)"
   ]
  },
  {
   "cell_type": "code",
   "execution_count": 20,
   "id": "19a91255",
   "metadata": {},
   "outputs": [
    {
     "name": "stdout",
     "output_type": "stream",
     "text": [
      "[[ 0  0 -6]]\n"
     ]
    }
   ],
   "source": [
    "v = np.array([[0,2,0]])\n",
    "w = np.array([[3,0,0]])\n",
    "print(np.cross(v,w))"
   ]
  },
  {
   "cell_type": "code",
   "execution_count": 25,
   "id": "f1f5a1fa",
   "metadata": {},
   "outputs": [
    {
     "name": "stdout",
     "output_type": "stream",
     "text": [
      "[[-8 -1  4]]\n"
     ]
    }
   ],
   "source": [
    "v = np.array([[0,3,2]])\n",
    "w = np.array([[4,1,1]])\n",
    "u = np.array([[0,-2,0]])\n",
    "x = 3*v-2*w+4*u\n",
    "print(x)"
   ]
  },
  {
   "cell_type": "code",
   "execution_count": 49,
   "id": "f88c77ce",
   "metadata": {},
   "outputs": [
    {
     "name": "stdout",
     "output_type": "stream",
     "text": [
      "M:\n",
      " [[0 2 1 3]\n",
      " [3 2 8 1]\n",
      " [1 0 0 3]\n",
      " [0 3 2 1]]\n",
      "Determinant: -38.00\n",
      "M*I:\n",
      " [[0. 2. 1. 3.]\n",
      " [3. 2. 8. 1.]\n",
      " [1. 0. 0. 3.]\n",
      " [0. 3. 2. 1.]]\n",
      "M^-1:\n",
      " [[-1.57894737 -0.07894737  1.23684211  1.10526316]\n",
      " [-0.63157895 -0.13157895  0.39473684  0.84210526]\n",
      " [ 0.68421053  0.18421053 -0.55263158 -0.57894737]\n",
      " [ 0.52631579  0.02631579 -0.07894737 -0.36842105]]\n"
     ]
    }
   ],
   "source": [
    "from numpy.linalg import det\n",
    "from numpy.linalg import inv\n",
    "\n",
    "M = np.array([[0,2,1,3],\n",
    "             [3,2,8,1],\n",
    "             [1,0,0,3],\n",
    "             [0,3,2,1]])\n",
    "print(\"M:\\n\",M)\n",
    "print(f\"Determinant: {det(M):.2f}\")\n",
    "\n",
    "I = np.eye(4)\n",
    "print(\"M*I:\\n\", np.dot(M,I))\n",
    "\n",
    "print(\"M^-1:\\n\", inv(M))"
   ]
  },
  {
   "cell_type": "code",
   "execution_count": 57,
   "id": "01d532ca",
   "metadata": {},
   "outputs": [
    {
     "name": "stdout",
     "output_type": "stream",
     "text": [
      "4.048917339522305\n",
      "3\n",
      "[[1 1 0 1]\n",
      " [0 1 0 2]\n",
      " [1 0 1 1]]\n"
     ]
    }
   ],
   "source": [
    "from numpy.linalg import cond, matrix_rank\n",
    "\n",
    "A = np.array([[1,1,0],\n",
    "             [0,1,0],\n",
    "             [1,0,1]])\n",
    "\n",
    "print(cond(A))\n",
    "print(matrix_rank(A))\n",
    "y = np.array([[1],[2],[1]])\n",
    "A_y = np.concatenate((A, y), axis=1)\n",
    "print(A_y)"
   ]
  },
  {
   "cell_type": "code",
   "execution_count": 60,
   "id": "d33d10a2",
   "metadata": {},
   "outputs": [
    {
     "name": "stdout",
     "output_type": "stream",
     "text": [
      "LU= [[ 4.  3. -5.]\n",
      " [-2. -4.  5.]\n",
      " [ 8.  8.  0.]]\n"
     ]
    }
   ],
   "source": [
    "u = np.array([[4,3,-5],\n",
    "             [0,-2.5,2.5],\n",
    "             [0,0,12]])\n",
    "l = np.array([[1,0,0],\n",
    "             [-0.5,1,0],\n",
    "             [2,-0.8,1]])\n",
    "\n",
    "print(\"LU=\", np.dot(l,u))\n"
   ]
  },
  {
   "cell_type": "code",
   "execution_count": 88,
   "id": "53b124b4",
   "metadata": {},
   "outputs": [
    {
     "name": "stdout",
     "output_type": "stream",
     "text": [
      "the matrix is NOT diagonally dominant\n"
     ]
    }
   ],
   "source": [
    "from numpy.linalg import norm\n",
    "\n",
    "a = np.array([[8,3,-3],\n",
    "             [-2,-8,5],\n",
    "             [3,5,-5]])\n",
    "\n",
    "diag = np.diag(np.abs(a))\n",
    "off_diag = np.sum(np.abs(a), axis=1) - diag\n",
    "\n",
    "if np.all(diag > off_diag):\n",
    "    print(\"the matrix is diagonally dominant\")\n",
    "else:\n",
    "    print(\"the matrix is NOT diagonally dominant\")"
   ]
  },
  {
   "cell_type": "code",
   "execution_count": 90,
   "id": "3ee2c7d1",
   "metadata": {},
   "outputs": [
    {
     "name": "stdout",
     "output_type": "stream",
     "text": [
      "iteration results\n",
      "1, 1.7500, -0.4375, 2.2125, 9.9978\n",
      "2, 2.7437, 0.0719, 3.3181, 5.8103\n",
      "3, 2.9673, 0.7070, 4.0874, 3.8674\n",
      "4, 3.0177, 1.1752, 4.5858, 2.4937\n",
      "5, 3.0290, 1.4839, 4.9013, 1.5775\n",
      "6, 3.0315, 1.6804, 5.0993, 0.9903\n",
      "7, 3.0321, 1.8041, 5.2233, 0.6199\n",
      "8, 3.0322, 1.8815, 5.3008, 0.3877\n",
      "9, 3.0322, 1.9300, 5.3493, 0.2424\n",
      "10, 3.0323, 1.9603, 5.3796, 0.1515\n",
      "11, 3.0323, 1.9792, 5.3985, 0.0947\n",
      "12, 3.0323, 1.9910, 5.4104, 0.0592\n",
      "13, 3.0323, 1.9984, 5.4178, 0.0370\n",
      "14, 3.0323, 2.0030, 5.4224, 0.0231\n",
      "converged!\n"
     ]
    }
   ],
   "source": [
    "y = np.array([14,5,-8])\n",
    "epsilon = 0.01\n",
    "converged = False\n",
    "\n",
    "x_old = np.array([1,1,1])\n",
    "x1 = x_old[0]\n",
    "x2 = x_old[1]\n",
    "x3 = x_old[2]\n",
    "\n",
    "print(\"iteration results\")\n",
    "for k in range(1, 50):\n",
    "    \n",
    "    x1 = (14-3*x2+3*x3)/8\n",
    "    x2 = (5+2*x1-5*x3)/(-8)\n",
    "    x3 = (-8-3*x1-5*x2)/(-5)\n",
    "    \n",
    "    x = np.array([x1,x2,x3])\n",
    "    \n",
    "    dx = norm(x-x_old)\n",
    "    dy = norm(y-np.dot(a,x))\n",
    "    \n",
    "    print(\"%d, %.4f, %.4f, %.4f, %.4f\"%(k, x[0],x[1],x[2], dy))\n",
    "    if dx<epsilon :\n",
    "        converged = True\n",
    "        print(\"converged!\")\n",
    "        break\n",
    "        \n",
    "    x_old = x\n",
    "    \n",
    "if not converged :\n",
    "    print(\"Not converged\")"
   ]
  },
  {
   "cell_type": "code",
   "execution_count": 102,
   "id": "624cbd8e",
   "metadata": {},
   "outputs": [
    {
     "name": "stdout",
     "output_type": "stream",
     "text": [
      "[ 2.20833333 -2.58333333 -0.18333333]\n"
     ]
    }
   ],
   "source": [
    "import numpy as np\n",
    "\n",
    "A = np.array([[4,3,-5],\n",
    "             [-2,-4,5],\n",
    "             [8,8,0]])\n",
    "y = np.array([2,5,-3])\n",
    "x = np.linalg.solve(A,y)\n",
    "\n",
    "print(\"{0}\".format(x))"
   ]
  },
  {
   "cell_type": "code",
   "execution_count": 104,
   "id": "4bb5e2b3",
   "metadata": {},
   "outputs": [
    {
     "name": "stdout",
     "output_type": "stream",
     "text": [
      "(array([[0., 0., 1.],\n",
      "       [0., 1., 0.],\n",
      "       [1., 0., 0.]]), array([[ 1.  ,  0.  ,  0.  ],\n",
      "       [-0.25,  1.  ,  0.  ],\n",
      "       [ 0.5 ,  0.5 ,  1.  ]]), array([[ 8. ,  8. ,  0. ],\n",
      "       [ 0. , -2. ,  5. ],\n",
      "       [ 0. ,  0. , -7.5]]))\n"
     ]
    }
   ],
   "source": [
    "from scipy.linalg import lu\n",
    "\n",
    "print(lu(A))"
   ]
  }
 ],
 "metadata": {
  "kernelspec": {
   "display_name": "Python 3 (ipykernel)",
   "language": "python",
   "name": "python3"
  },
  "language_info": {
   "codemirror_mode": {
    "name": "ipython",
    "version": 3
   },
   "file_extension": ".py",
   "mimetype": "text/x-python",
   "name": "python",
   "nbconvert_exporter": "python",
   "pygments_lexer": "ipython3",
   "version": "3.11.5"
  }
 },
 "nbformat": 4,
 "nbformat_minor": 5
}
